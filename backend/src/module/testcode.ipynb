{
 "cells": [
  {
   "cell_type": "code",
   "execution_count": 6,
   "id": "a5f49874",
   "metadata": {},
   "outputs": [],
   "source": [
    "import sysbslf3"
   ]
  },
  {
   "cell_type": "code",
   "execution_count": 7,
   "id": "5013fcb9",
   "metadata": {},
   "outputs": [],
   "source": [
    "sysbs = sysbslf3.create(\n",
    "            host=\"db4free.net\",\n",
    "            user=\"clientmod\",\n",
    "            password=\"DYChDWaSf9AXttK\",\n",
    "            database=\"ownsys\"\n",
    ")"
   ]
  },
  {
   "cell_type": "code",
   "execution_count": 8,
   "id": "9b40f817",
   "metadata": {},
   "outputs": [
    {
     "data": {
      "text/plain": [
       "'initialisiert'"
      ]
     },
     "execution_count": 8,
     "metadata": {},
     "output_type": "execute_result"
    }
   ],
   "source": [
    "sysbs.init()"
   ]
  },
  {
   "cell_type": "code",
   "execution_count": 4,
   "id": "6d2b8210",
   "metadata": {},
   "outputs": [
    {
     "data": {
      "text/plain": [
       "'folgende Tabellen wurden gelöscht: IP_Adresse, IP_Vergabe, Netzelement, Schnittstelle, Schnittstellentyp, Standort, Subnetz, VLAN, VLAN_Schnittstelle'"
      ]
     },
     "execution_count": 4,
     "metadata": {},
     "output_type": "execute_result"
    }
   ],
   "source": [
    "sysbs.deldb()"
   ]
  },
  {
   "cell_type": "code",
   "execution_count": 9,
   "id": "826e6197",
   "metadata": {},
   "outputs": [
    {
     "data": {
      "text/plain": [
       "[(1, 'Switch', 1),\n",
       " (2, 'Router', 1),\n",
       " (3, 'Laptop', 2),\n",
       " (4, 'PC', 2),\n",
       " (5, 'Server', 1),\n",
       " (6, 'Switch', 1),\n",
       " (7, 'Router', 1),\n",
       " (8, 'Laptop', 2),\n",
       " (9, 'PC', 2),\n",
       " (10, 'Server', 1),\n",
       " (11, 'Switch', 1),\n",
       " (12, 'Router', 1),\n",
       " (13, 'Laptop', 2),\n",
       " (14, 'PC', 2),\n",
       " (15, 'Server', 1)]"
      ]
     },
     "execution_count": 9,
     "metadata": {},
     "output_type": "execute_result"
    }
   ],
   "source": [
    "sysbs.get_all_netzelemente()"
   ]
  },
  {
   "cell_type": "code",
   "execution_count": 10,
   "id": "7c6de5d6",
   "metadata": {},
   "outputs": [
    {
     "data": {
      "text/plain": [
       "[(3, 'Laptop', 2),\n",
       " (4, 'PC', 2),\n",
       " (8, 'Laptop', 2),\n",
       " (9, 'PC', 2),\n",
       " (13, 'Laptop', 2),\n",
       " (14, 'PC', 2)]"
      ]
     },
     "execution_count": 10,
     "metadata": {},
     "output_type": "execute_result"
    }
   ],
   "source": [
    "sysbs.get_client_gereate()"
   ]
  },
  {
   "cell_type": "code",
   "execution_count": 12,
   "id": "f6e38f48",
   "metadata": {},
   "outputs": [
    {
     "data": {
      "text/plain": [
       "[(1, 'Switch', 1), (2, 'Router', 1)]"
      ]
     },
     "execution_count": 12,
     "metadata": {},
     "output_type": "execute_result"
    }
   ],
   "source": [
    "sysbs.get_geraete_in_subnetz(1)"
   ]
  },
  {
   "cell_type": "code",
   "execution_count": 13,
   "id": "b8057a2e",
   "metadata": {},
   "outputs": [
    {
     "data": {
      "text/plain": [
       "[(1, 'eth0', 1, '00:11:22:33:44:01', 1, 'Switch'),\n",
       " (2, 'eth1', 1, '00:11:22:33:44:02', 1, 'Switch')]"
      ]
     },
     "execution_count": 13,
     "metadata": {},
     "output_type": "execute_result"
    }
   ],
   "source": [
    "sysbs.get_schnittstellen_fuer_geraet(1)"
   ]
  },
  {
   "cell_type": "code",
   "execution_count": 1,
   "id": "c1e74bed",
   "metadata": {},
   "outputs": [],
   "source": [
    "import funbslf3"
   ]
  },
  {
   "cell_type": "code",
   "execution_count": 2,
   "id": "a588c75e",
   "metadata": {},
   "outputs": [],
   "source": [
    "test = funbslf3.Create()"
   ]
  },
  {
   "cell_type": "code",
   "execution_count": 5,
   "id": "d9f2277b",
   "metadata": {},
   "outputs": [
    {
     "data": {
      "text/plain": [
       "{'hosts_per_subnet': 30,\n",
       " 'subnet_mask': '/27',\n",
       " 'subnet_addresses': ['172.148.100.0',\n",
       "  '172.148.100.32',\n",
       "  '172.148.100.64',\n",
       "  '172.148.100.96',\n",
       "  '172.148.100.128']}"
      ]
     },
     "execution_count": 5,
     "metadata": {},
     "output_type": "execute_result"
    }
   ],
   "source": [
    "test.symsub(\"172.148.100.0\", 5)"
   ]
  },
  {
   "cell_type": "code",
   "execution_count": null,
   "id": "3e4607e9",
   "metadata": {},
   "outputs": [],
   "source": []
  }
 ],
 "metadata": {
  "kernelspec": {
   "display_name": "Python 3",
   "language": "python",
   "name": "python3"
  },
  "language_info": {
   "codemirror_mode": {
    "name": "ipython",
    "version": 3
   },
   "file_extension": ".py",
   "mimetype": "text/x-python",
   "name": "python",
   "nbconvert_exporter": "python",
   "pygments_lexer": "ipython3",
   "version": "3.12.6"
  }
 },
 "nbformat": 4,
 "nbformat_minor": 5
}
