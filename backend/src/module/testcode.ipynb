{
 "cells": [
  {
   "cell_type": "code",
   "execution_count": 1,
   "id": "a5f49874",
   "metadata": {},
   "outputs": [],
   "source": [
    "import sysbslf3"
   ]
  },
  {
   "cell_type": "code",
   "execution_count": 2,
   "id": "5013fcb9",
   "metadata": {},
   "outputs": [],
   "source": [
    "sysbs = sysbslf3.create(\n",
    "            host=\"db4free.net\",\n",
    "            user=\"clientmod\",\n",
    "            password=\"DYChDWaSf9AXttK\",\n",
    "            database=\"ownsys\"\n",
    ")"
   ]
  },
  {
   "cell_type": "code",
   "execution_count": 3,
   "id": "9b40f817",
   "metadata": {},
   "outputs": [
    {
     "data": {
      "text/plain": [
       "'initialisiert'"
      ]
     },
     "execution_count": 3,
     "metadata": {},
     "output_type": "execute_result"
    }
   ],
   "source": [
    "sysbs.init()"
   ]
  },
  {
   "cell_type": "code",
   "execution_count": 4,
   "id": "6d2b8210",
   "metadata": {},
   "outputs": [
    {
     "data": {
      "text/plain": [
       "'folgende Tabellen wurden gelöscht: IP_Adresse, IP_Vergabe, Netzelement, Schnittstelle, Schnittstellentyp, Standort, Subnetz, VLAN, VLAN_Schnittstelle'"
      ]
     },
     "execution_count": 4,
     "metadata": {},
     "output_type": "execute_result"
    }
   ],
   "source": [
    "sysbs.deldb()"
   ]
  },
  {
   "cell_type": "code",
   "execution_count": null,
   "id": "826e6197",
   "metadata": {},
   "outputs": [
    {
     "data": {
      "text/plain": [
       "[]"
      ]
     },
     "execution_count": 4,
     "metadata": {},
     "output_type": "execute_result"
    }
   ],
   "source": [
    "sysbs.get_all_netzelemente()"
   ]
  },
  {
   "cell_type": "code",
   "execution_count": null,
   "id": "7c6de5d6",
   "metadata": {},
   "outputs": [],
   "source": [
    "sysbs."
   ]
  },
  {
   "cell_type": "code",
   "execution_count": null,
   "id": "f6e38f48",
   "metadata": {},
   "outputs": [],
   "source": []
  }
 ],
 "metadata": {
  "kernelspec": {
   "display_name": "Python 3",
   "language": "python",
   "name": "python3"
  },
  "language_info": {
   "codemirror_mode": {
    "name": "ipython",
    "version": 3
   },
   "file_extension": ".py",
   "mimetype": "text/x-python",
   "name": "python",
   "nbconvert_exporter": "python",
   "pygments_lexer": "ipython3",
   "version": "3.12.6"
  }
 },
 "nbformat": 4,
 "nbformat_minor": 5
}
